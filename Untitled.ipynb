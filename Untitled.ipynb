{
 "cells": [
  {
   "cell_type": "markdown",
   "metadata": {},
   "source": [
    "![Ironhack logo](https://i.imgur.com/1QgrNNw.png)\n",
    "\n",
    "# Lab | My first queries\n",
    "\n",
    "Please, connect to the Data Bootcamp Google Database using the credentials provided in class. Choose the database called *appleStore* (NOT *appleStore2*!). Use the *data* table to query the data about Apple Store Apps and answer the following questions: \n",
    "\n",
    "**1. Which are the different genres?**\n",
    "\n",
    "**2. Which is the genre with more apps rated?**\n",
    "\n",
    "**3. Which is the genre with more apps?**\n",
    "\n",
    "**4. Which is the one with less?**\n",
    "\n",
    "**5. Take the 10 apps most rated.**\n",
    "\n",
    "**6. Take the 10 apps best rated by users.**\n",
    "\n",
    "**7. Take a look on the data you retrieved in the question 5. Give some insights.**\n",
    "\n",
    "**8. Take a look on the data you retrieved in the question 6. Give some insights.**\n",
    "\n",
    "**9. Now compare the data from questions 5 and 6. What do you see?**\n",
    "\n",
    "**10. How could you take the top 3 regarding the user ratings but also the number of votes?**\n",
    "\n",
    "**11. Does people care about the price?** Do some queries, comment why are you doing them and the results you retrieve. What is your conclusion?\n",
    "\n",
    "\n",
    "## Deliverables \n",
    "You need to submit a `.sql` file that includes the queries used to answer the questions above, as well as an `.md` file including your answers. "
   ]
  },
  {
   "cell_type": "code",
   "execution_count": null,
   "metadata": {},
   "outputs": [],
   "source": []
  }
 ],
 "metadata": {
  "kernelspec": {
   "display_name": "Python 3",
   "language": "python",
   "name": "python3"
  },
  "language_info": {
   "codemirror_mode": {
    "name": "ipython",
    "version": 3
   },
   "file_extension": ".py",
   "mimetype": "text/x-python",
   "name": "python",
   "nbconvert_exporter": "python",
   "pygments_lexer": "ipython3",
   "version": "3.7.6"
  }
 },
 "nbformat": 4,
 "nbformat_minor": 4
}
